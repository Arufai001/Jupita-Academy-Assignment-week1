{
 "cells": [
  {
   "cell_type": "markdown",
   "id": "fda4afd6",
   "metadata": {},
   "source": [
    "## Data Type and Basic Arithmetic:\n",
    "\n",
    "## Scenario:\n",
    "## The school wants to keep track of the number of students in each grade. They currently have the following data:\n",
    "\n",
    "## - Grade 1: 25 students - Grade 2: 30 students - Grade 3: 28 students\n",
    "\n",
    "## You need to perform the following tasks:\n",
    "\n",
    "## a. Calculate and display the total number of students.\n",
    "## b. Calculate and display the average number of students per grade."
   ]
  },
  {
   "cell_type": "code",
   "execution_count": 1,
   "id": "a97f7d9f",
   "metadata": {},
   "outputs": [],
   "source": [
    "grade1=23 \n",
    "grade2=30\n",
    "grade3=28"
   ]
  },
  {
   "cell_type": "code",
   "execution_count": 2,
   "id": "f2f6bf5d",
   "metadata": {},
   "outputs": [],
   "source": [
    "total=grade1+grade2+grade3"
   ]
  },
  {
   "cell_type": "code",
   "execution_count": 3,
   "id": "a60a55f7",
   "metadata": {},
   "outputs": [
    {
     "data": {
      "text/plain": [
       "81"
      ]
     },
     "execution_count": 3,
     "metadata": {},
     "output_type": "execute_result"
    }
   ],
   "source": [
    "total"
   ]
  },
  {
   "cell_type": "code",
   "execution_count": 4,
   "id": "36df60c8",
   "metadata": {},
   "outputs": [
    {
     "data": {
      "text/plain": [
       "81"
      ]
     },
     "execution_count": 4,
     "metadata": {},
     "output_type": "execute_result"
    }
   ],
   "source": [
    "grades = [23,30,28]\n",
    "sum (grades)"
   ]
  },
  {
   "cell_type": "code",
   "execution_count": 5,
   "id": "fe792358",
   "metadata": {},
   "outputs": [
    {
     "data": {
      "text/plain": [
       "<function len(obj, /)>"
      ]
     },
     "execution_count": 5,
     "metadata": {},
     "output_type": "execute_result"
    }
   ],
   "source": [
    "len"
   ]
  },
  {
   "cell_type": "code",
   "execution_count": 6,
   "id": "d49e75b5",
   "metadata": {},
   "outputs": [
    {
     "data": {
      "text/plain": [
       "27.0"
      ]
     },
     "execution_count": 6,
     "metadata": {},
     "output_type": "execute_result"
    }
   ],
   "source": [
    "(total)/len(grades)"
   ]
  },
  {
   "cell_type": "markdown",
   "id": "7e3bee25",
   "metadata": {},
   "source": [
    "## Variable Assignment and String Manipulation:\n",
    "\n",
    "## Scenario:\n",
    "## The school also wants to keep track of some important messages for different grades. They have prepared the following messages:\n",
    "\n",
    "## - Grade 1: \"Welcome to Grade 1! We are excited to have you.\"\n",
    "## - Grade 2: \"Hello Grade 2 students! Get ready to learn and have fun.\"\n",
    "## - Grade 3: \"Welcome Grade 3 students. Let's make this a great year of learning.\"\n",
    " ## Variable Assignment and String Manipulation:\n",
    "\n",
    "## You need to perform the following tasks:\n",
    "\n",
    "## a. Store the messages in variables corresponding to each grade. b. Display the messages for Grade 2."
   ]
  },
  {
   "cell_type": "code",
   "execution_count": 7,
   "id": "01d01eb0",
   "metadata": {},
   "outputs": [],
   "source": [
    "message1=\"Welcome to Grade 1! We are excited to have you.\" \n",
    "message2=\"Hello Grade 2 students! Get ready to learn and have fun.\"\n",
    "message3=\"Welcome Grade 3 students. Let's make this a great year of learning.\" "
   ]
  },
  {
   "cell_type": "code",
   "execution_count": 8,
   "id": "1025785f",
   "metadata": {},
   "outputs": [
    {
     "name": "stdout",
     "output_type": "stream",
     "text": [
      "Welcome to Grade 1! We are excited to have you.\n",
      "  \n",
      "Hello Grade 2 students! Get ready to learn and have fun.\n",
      "  \n",
      "Welcome Grade 3 students. Let's make this a great year of learning.\n",
      "  \n"
     ]
    }
   ],
   "source": [
    "print(message1)\n",
    "print('  ')\n",
    "print(message2)\n",
    "print('  ')\n",
    "print(message3)\n",
    "print('  ')"
   ]
  },
  {
   "cell_type": "markdown",
   "id": "d6198e9d",
   "metadata": {},
   "source": [
    "## 3. Lists and Dictionaries:\n",
    "\n",
    "## Scenario:\n",
    "## The school wants to store a list of subjects for each grade, along with the names of teachers who\n",
    "\n",
    " \n",
    "\n",
    "## teach those subjects. Here's the data they have:\n",
    "\n",
    "## - Grade 1: Subjects - Math, English, Science; Teachers - Mr. Smith, Ms. Johnson, Mr. Davis\n",
    "## - Grade 2: Subjects - English, Science, History; Teachers - Ms. Williams, Mr. Davis, Ms. Brown - Grade 3: Subjects - Science, History, Math; Teachers - Ms. Davis, Mr. Johnson, Mr. Smith\n",
    "\n",
    "## You need to perform the following tasks:\n",
    "\n",
    "## 1.Create a list of grades\n",
    "\n",
    "## 2.Create a list of subjects for each grade.\n",
    "\n",
    "## 3.Create a dictionary where keys are the grade names and values are lists of teachers for\n",
    "\n",
    "## each grade.\n",
    "\n",
    "## 4.Display the subjects taught in Grade 3.\n",
    "\n",
    "## 5. Display the values of Grade 2 in the dictionary.\n",
    "\n"
   ]
  },
  {
   "cell_type": "code",
   "execution_count": 9,
   "id": "ec17020b",
   "metadata": {},
   "outputs": [
    {
     "data": {
      "text/plain": [
       "['grade1', 'grade2', 'grade3']"
      ]
     },
     "execution_count": 9,
     "metadata": {},
     "output_type": "execute_result"
    }
   ],
   "source": [
    "list_of_grades=['grade1','grade2','grade3']\n",
    "list_of_grades"
   ]
  },
  {
   "cell_type": "code",
   "execution_count": 10,
   "id": "af4eeb35",
   "metadata": {},
   "outputs": [
    {
     "data": {
      "text/plain": [
       "[['Math, English', 'Science'],\n",
       " ['English', 'Science', 'History'],\n",
       " ['Science', 'History', 'Math']]"
      ]
     },
     "execution_count": 10,
     "metadata": {},
     "output_type": "execute_result"
    }
   ],
   "source": [
    "list_of_subjects=[[\"Math, English\", \"Science\"],[\"English\",\"Science\", \"History\"],[\"Science\", \"History\", \"Math\"]]\n",
    "list_of_subjects"
   ]
  },
  {
   "cell_type": "code",
   "execution_count": 11,
   "id": "b8580974",
   "metadata": {},
   "outputs": [
    {
     "data": {
      "text/plain": [
       "{'key:value'}"
      ]
     },
     "execution_count": 11,
     "metadata": {},
     "output_type": "execute_result"
    }
   ],
   "source": [
    "{'key:value'}"
   ]
  },
  {
   "cell_type": "code",
   "execution_count": 12,
   "id": "40358934",
   "metadata": {},
   "outputs": [
    {
     "data": {
      "text/plain": [
       "{'grade1': ['Mr. Smith', 'Ms. Johnson', 'Mr. Davis'],\n",
       " 'grade2': ['Ms. Williams', 'Mr. Davis', 'Ms. Brown'],\n",
       " 'grade3': ['Ms. Davis', 'Mr. Johnson', 'Mr. Smith']}"
      ]
     },
     "execution_count": 12,
     "metadata": {},
     "output_type": "execute_result"
    }
   ],
   "source": [
    "dict={\"grade1\":[\"Mr. Smith\", \"Ms. Johnson\", \"Mr. Davis\"],\"grade2\":[\"Ms. Williams\", \"Mr. Davis\", \"Ms. Brown\"],\"grade3\":[\"Ms. Davis\", \"Mr. Johnson\", \"Mr. Smith\"]}\n",
    "\n",
    "dict"
   ]
  },
  {
   "cell_type": "code",
   "execution_count": 13,
   "id": "2912532d",
   "metadata": {},
   "outputs": [
    {
     "data": {
      "text/plain": [
       "['Science', 'History', 'Math']"
      ]
     },
     "execution_count": 13,
     "metadata": {},
     "output_type": "execute_result"
    }
   ],
   "source": [
    "list_of_subjects[2]"
   ]
  },
  {
   "cell_type": "code",
   "execution_count": 14,
   "id": "0a1be63d",
   "metadata": {},
   "outputs": [
    {
     "data": {
      "text/plain": [
       "['Ms. Williams', 'Mr. Davis', 'Ms. Brown']"
      ]
     },
     "execution_count": 14,
     "metadata": {},
     "output_type": "execute_result"
    }
   ],
   "source": [
    "dict['grade2']"
   ]
  },
  {
   "cell_type": "code",
   "execution_count": null,
   "id": "ff4fa77c",
   "metadata": {},
   "outputs": [],
   "source": []
  }
 ],
 "metadata": {
  "kernelspec": {
   "display_name": "Python 3 (ipykernel)",
   "language": "python",
   "name": "python3"
  },
  "language_info": {
   "codemirror_mode": {
    "name": "ipython",
    "version": 3
   },
   "file_extension": ".py",
   "mimetype": "text/x-python",
   "name": "python",
   "nbconvert_exporter": "python",
   "pygments_lexer": "ipython3",
   "version": "3.11.5"
  }
 },
 "nbformat": 4,
 "nbformat_minor": 5
}
